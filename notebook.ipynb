{
  "cells": [
    {
      "cell_type": "markdown",
      "metadata": {},
      "source": [
        "[![Open In Colab](https://colab.research.google.com/assets/colab-badge.svg)](https://colab.research.google.com/github/mostafaelaraby/wavegan-pytorch/blob/master/notebook.ipynb)\n"
      ]
    },
    {
      "cell_type": "code",
      "execution_count": 1,
      "metadata": {},
      "outputs": [
        {
          "name": "stdout",
          "output_type": "stream",
          "text": [
            "Current dir: /home/user/mostafaelaraby_v1/wavegan-pytorch\n"
          ]
        }
      ],
      "source": [
        "import os\n",
        "print(\"Current dir:\", os.getcwd())"
      ]
    },
    {
      "cell_type": "code",
      "execution_count": null,
      "metadata": {
        "colab": {
          "base_uri": "https://localhost:8080/",
          "height": 415
        },
        "colab_type": "code",
        "id": "ipSNRqjpXTLD",
        "outputId": "f28244a6-7fb7-4e92-83b2-a8a56b324f29"
      },
      "outputs": [],
      "source": [
        "!python3.11 -m pip install -r requirements.txt"
      ]
    },
    {
      "cell_type": "markdown",
      "metadata": {
        "colab_type": "text",
        "id": "NUo6Kmg3ZPwy"
      },
      "source": [
        "## WaveGAN Model Training"
      ]
    },
    {
      "cell_type": "code",
      "execution_count": null,
      "metadata": {
        "colab": {
          "base_uri": "https://localhost:8080/",
          "height": 64
        },
        "colab_type": "code",
        "id": "V4HQdcGpZL-w",
        "outputId": "8257f56b-fcea-4aab-aae1-df84fb7342cd"
      },
      "outputs": [],
      "source": [
        "!python3.11  train.py"
      ]
    },
    {
      "cell_type": "markdown",
      "metadata": {},
      "source": [
        "## Markov Chain Refinement"
      ]
    },
    {
      "cell_type": "code",
      "execution_count": null,
      "metadata": {},
      "outputs": [],
      "source": [
        "ACTUAL_DATA_DIR = \"Dataset/QueenAbsent_Data/train\"\n",
        "WAVEGAN_GEN_DIR      = \"wavegan_out/queen_present\"\n",
        "MC_OUT_DIR = \"mc_refined/queen_present\"\n",
        "\n",
        "# How many samples to generate\n",
        "count = 20000\n",
        "\n",
        "!python3.11 mc_refiner.py --beta {b} --ema_alpha {a} --real_dir {ACTUAL_DATA_DIR} --synth_dir {WAVEGAN_GEN_DIR} --out_dir {MC_OUT_DIR} --target_len {count}\n",
        "        "
      ]
    }
  ],
  "metadata": {
    "accelerator": "GPU",
    "colab": {
      "name": "WaveGan.ipynb",
      "provenance": [],
      "toc_visible": true
    },
    "kernelspec": {
      "display_name": "Python 3",
      "name": "python3"
    },
    "language_info": {
      "codemirror_mode": {
        "name": "ipython",
        "version": 3
      },
      "file_extension": ".py",
      "mimetype": "text/x-python",
      "name": "python",
      "nbconvert_exporter": "python",
      "pygments_lexer": "ipython3",
      "version": "3.11.13"
    }
  },
  "nbformat": 4,
  "nbformat_minor": 0
}
